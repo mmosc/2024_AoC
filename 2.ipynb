{
 "cells": [
  {
   "cell_type": "code",
   "id": "initial_id",
   "metadata": {
    "collapsed": true,
    "ExecuteTime": {
     "end_time": "2024-12-02T12:37:44.798105Z",
     "start_time": "2024-12-02T12:37:44.794700Z"
    }
   },
   "source": [
    "import pandas as pd\n",
    "import numpy as np\n",
    "from numpy import dtype"
   ],
   "outputs": [],
   "execution_count": 16
  },
  {
   "metadata": {
    "ExecuteTime": {
     "end_time": "2024-12-02T12:37:45.545748Z",
     "start_time": "2024-12-02T12:37:45.540073Z"
    }
   },
   "cell_type": "code",
   "source": [
    "filename = './data/2_input'\n",
    "with open(filename) as file:\n",
    "    lines = [np.array(line.rstrip().split(' '), dtype=int) for line in file]"
   ],
   "id": "b9f89d9899317330",
   "outputs": [],
   "execution_count": 17
  },
  {
   "metadata": {
    "ExecuteTime": {
     "end_time": "2024-12-02T12:37:45.885039Z",
     "start_time": "2024-12-02T12:37:45.879593Z"
    }
   },
   "cell_type": "code",
   "source": "differences = [line[1:] - line[:-1] for line in lines]",
   "id": "e01c3566bf3669e1",
   "outputs": [],
   "execution_count": 18
  },
  {
   "metadata": {
    "ExecuteTime": {
     "end_time": "2024-12-02T12:45:01.359150Z",
     "start_time": "2024-12-02T12:45:01.353888Z"
    }
   },
   "cell_type": "code",
   "source": [
    "difference = differences[0]\n",
    "differences[:5]"
   ],
   "id": "ceb31243cabfbb85",
   "outputs": [
    {
     "data": {
      "text/plain": [
       "[array([ 1,  1,  3,  1, -3]),\n",
       " array([3, 3, 1, 0]),\n",
       " array([2, 1, 1, 2, 3, 1, 4]),\n",
       " array([1, 1, 3, 5]),\n",
       " array([ 3,  1,  2,  3, -3,  2,  2])]"
      ]
     },
     "execution_count": 44,
     "metadata": {},
     "output_type": "execute_result"
    }
   ],
   "execution_count": 44
  },
  {
   "metadata": {
    "ExecuteTime": {
     "end_time": "2024-12-02T12:48:14.787795Z",
     "start_time": "2024-12-02T12:48:14.769594Z"
    }
   },
   "cell_type": "code",
   "source": [
    "differences_ = [1 if (\n",
    "        ((np.abs(difference) > 3).sum() == 0) & (\n",
    "    (((difference > 0).sum() == len(difference)) | ((difference < 0).sum() == len(difference)))\n",
    ")\n",
    ") else 0 for difference in differences#[:5]\n",
    "                ]\n",
    "np.sum(differences_)"
   ],
   "id": "8d036029e6cce694",
   "outputs": [
    {
     "data": {
      "text/plain": [
       "np.int64(341)"
      ]
     },
     "execution_count": 51,
     "metadata": {},
     "output_type": "execute_result"
    }
   ],
   "execution_count": 51
  },
  {
   "metadata": {},
   "cell_type": "markdown",
   "source": "Part 2",
   "id": "83a50bcf63fa8b4e"
  },
  {
   "metadata": {
    "ExecuteTime": {
     "end_time": "2024-12-02T13:45:41.715855Z",
     "start_time": "2024-12-02T13:45:41.712507Z"
    }
   },
   "cell_type": "code",
   "source": [
    "def check_if_difference_ok(difference):\n",
    "    result = (\n",
    "            ((np.abs(difference) > 3).sum() == 0) & (\n",
    "            ((difference > 0).sum() == len(difference)) | \n",
    "            ((difference < 0).sum() == len(difference))\n",
    "         )\n",
    "    )\n",
    "    return result"
   ],
   "id": "a8f2defd161bf170",
   "outputs": [],
   "execution_count": 65
  },
  {
   "metadata": {
    "ExecuteTime": {
     "end_time": "2024-12-02T13:47:07.964076Z",
     "start_time": "2024-12-02T13:47:07.960006Z"
    }
   },
   "cell_type": "code",
   "source": [
    "def check_if_array_ok(line):\n",
    "    difference = line[1:] - line[:-1]\n",
    "    result = check_if_difference_ok(difference)\n",
    "    if result:\n",
    "        return 1\n",
    "    else: \n",
    "        for i in range(len(line)):\n",
    "            tmp_line = np.delete(line, i)\n",
    "            difference = tmp_line[1:] - tmp_line[:-1]\n",
    "            result = check_if_difference_ok(difference)\n",
    "            if result:\n",
    "                return 1\n",
    "                break\n",
    "        return 0"
   ],
   "id": "d1e4ba283fce6887",
   "outputs": [],
   "execution_count": 75
  },
  {
   "metadata": {
    "ExecuteTime": {
     "end_time": "2024-12-02T13:47:08.496155Z",
     "start_time": "2024-12-02T13:47:08.414560Z"
    }
   },
   "cell_type": "code",
   "source": [
    "np.sum(\n",
    "    [check_if_array_ok(line) for line in lines]\n",
    ")"
   ],
   "id": "196d3c451375563e",
   "outputs": [
    {
     "data": {
      "text/plain": [
       "np.int64(404)"
      ]
     },
     "execution_count": 76,
     "metadata": {},
     "output_type": "execute_result"
    }
   ],
   "execution_count": 76
  },
  {
   "metadata": {
    "ExecuteTime": {
     "end_time": "2024-12-02T13:46:08.999672Z",
     "start_time": "2024-12-02T13:46:08.995483Z"
    }
   },
   "cell_type": "code",
   "source": "lines[:5]",
   "id": "eea31b2a6035389b",
   "outputs": [
    {
     "data": {
      "text/plain": [
       "[array([66, 67, 68, 71, 72, 69]),\n",
       " array([72, 75, 78, 79, 79]),\n",
       " array([38, 40, 41, 42, 44, 47, 48, 52]),\n",
       " array([86, 87, 88, 91, 96]),\n",
       " array([30, 33, 34, 36, 39, 36, 38, 40])]"
      ]
     },
     "execution_count": 73,
     "metadata": {},
     "output_type": "execute_result"
    }
   ],
   "execution_count": 73
  },
  {
   "metadata": {},
   "cell_type": "code",
   "outputs": [],
   "execution_count": null,
   "source": "",
   "id": "b508298bede83fdb"
  }
 ],
 "metadata": {
  "kernelspec": {
   "display_name": "Python 3",
   "language": "python",
   "name": "python3"
  },
  "language_info": {
   "codemirror_mode": {
    "name": "ipython",
    "version": 2
   },
   "file_extension": ".py",
   "mimetype": "text/x-python",
   "name": "python",
   "nbconvert_exporter": "python",
   "pygments_lexer": "ipython2",
   "version": "2.7.6"
  }
 },
 "nbformat": 4,
 "nbformat_minor": 5
}
