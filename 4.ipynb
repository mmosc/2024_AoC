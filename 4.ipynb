{
 "cells": [
  {
   "metadata": {
    "ExecuteTime": {
     "end_time": "2024-12-04T12:07:24.362359Z",
     "start_time": "2024-12-04T12:07:24.208285Z"
    }
   },
   "cell_type": "code",
   "source": "import numpy as np",
   "id": "f81d447d5499e684",
   "outputs": [],
   "execution_count": 1
  },
  {
   "metadata": {
    "ExecuteTime": {
     "end_time": "2024-12-04T12:07:24.543486Z",
     "start_time": "2024-12-04T12:07:24.537184Z"
    }
   },
   "cell_type": "code",
   "source": "ord('X'), ord('M'), ord('A'), ord('S') ",
   "id": "c3fb8a5041337090",
   "outputs": [
    {
     "data": {
      "text/plain": [
       "(88, 77, 65, 83)"
      ]
     },
     "execution_count": 2,
     "metadata": {},
     "output_type": "execute_result"
    }
   ],
   "execution_count": 2
  },
  {
   "metadata": {
    "ExecuteTime": {
     "end_time": "2024-12-04T12:07:25.156433Z",
     "start_time": "2024-12-04T12:07:25.150724Z"
    }
   },
   "cell_type": "code",
   "source": [
    "file = open(\"./data/4_input\", \"r\")\n",
    "lines = []\n",
    "\n",
    "for line in file:\n",
    "    line = line.rstrip()\n",
    "    line = [ord(letter) for letter in line]\n",
    "    lines += [line]\n",
    "\n",
    "file.close()"
   ],
   "id": "fd50cc3258be13f0",
   "outputs": [],
   "execution_count": 3
  },
  {
   "metadata": {
    "ExecuteTime": {
     "end_time": "2024-12-04T12:07:25.750081Z",
     "start_time": "2024-12-04T12:07:25.743750Z"
    }
   },
   "cell_type": "code",
   "source": [
    "lines = np.array(lines)\n",
    "lines_str = []\n",
    "\n",
    "for line in lines:\n",
    "    line = ''.join([chr(value) for value in line])\n",
    "    lines_str += [line]"
   ],
   "id": "58f52f09e4f8cab6",
   "outputs": [],
   "execution_count": 4
  },
  {
   "metadata": {
    "ExecuteTime": {
     "end_time": "2024-12-04T12:07:26.335566Z",
     "start_time": "2024-12-04T12:07:26.330477Z"
    }
   },
   "cell_type": "code",
   "source": [
    "lines = np.array(lines)\n",
    "columns = lines.T\n",
    "columns_str = []\n",
    "\n",
    "for column in columns:\n",
    "    column = ''.join([chr(value) for value in column])\n",
    "    columns_str += [column]"
   ],
   "id": "44f102271dede172",
   "outputs": [],
   "execution_count": 5
  },
  {
   "metadata": {
    "ExecuteTime": {
     "end_time": "2024-12-04T12:07:26.965207Z",
     "start_time": "2024-12-04T12:07:26.960794Z"
    }
   },
   "cell_type": "code",
   "source": [
    "diags = [lines[::-1,:].diagonal(i) for i in range(-lines.shape[0]+1, lines.shape[1])]\n",
    "\n",
    "# Now back to the original array to get the upper-left-to-lower-right diagonals,\n",
    "# starting from the right, so the range needed for shape (x,y) was y-1 to -x+1 descending.\n",
    "diags.extend(lines.diagonal(i) for i in range(lines.shape[1]-1,-lines.shape[0],-1))"
   ],
   "id": "ddf07322ee48d4f3",
   "outputs": [],
   "execution_count": 6
  },
  {
   "metadata": {
    "ExecuteTime": {
     "end_time": "2024-12-04T12:07:29.233546Z",
     "start_time": "2024-12-04T12:07:29.225885Z"
    }
   },
   "cell_type": "code",
   "source": [
    "diagonals_str = []\n",
    "\n",
    "for diagonal in diags:\n",
    "    diagonal = ''.join([chr(value) for value in diagonal])\n",
    "    diagonals_str += [diagonal]"
   ],
   "id": "9aa3ecf8b0d56fe7",
   "outputs": [],
   "execution_count": 7
  },
  {
   "metadata": {
    "ExecuteTime": {
     "end_time": "2024-12-04T12:07:29.927774Z",
     "start_time": "2024-12-04T12:07:29.921771Z"
    }
   },
   "cell_type": "code",
   "source": [
    "all_strings = diagonals_str + lines_str + columns_str\n",
    "len(all_strings)"
   ],
   "id": "fc8506f03160555f",
   "outputs": [
    {
     "data": {
      "text/plain": [
       "838"
      ]
     },
     "execution_count": 8,
     "metadata": {},
     "output_type": "execute_result"
    }
   ],
   "execution_count": 8
  },
  {
   "cell_type": "code",
   "id": "initial_id",
   "metadata": {
    "collapsed": true,
    "ExecuteTime": {
     "end_time": "2024-12-04T12:07:30.831289Z",
     "start_time": "2024-12-04T12:07:30.822761Z"
    }
   },
   "source": [
    "total = 0\n",
    "\n",
    "import re\n",
    "\n",
    "pattern = re.compile(r\"XMAS\")\n",
    "\n",
    "for string in all_strings:    \n",
    "    matches = [m.group() for m in re.finditer(pattern, string)]\n",
    "    total += len(matches)\n",
    "    \n",
    "\n",
    "pattern = re.compile(r\"SAMX\")\n",
    "\n",
    "for string in all_strings:    \n",
    "    matches = [m.group() for m in re.finditer(pattern, string)]\n",
    "    total += len(matches)\n"
   ],
   "outputs": [],
   "execution_count": 9
  },
  {
   "metadata": {
    "ExecuteTime": {
     "end_time": "2024-12-04T12:07:31.964017Z",
     "start_time": "2024-12-04T12:07:31.958637Z"
    }
   },
   "cell_type": "code",
   "source": "total",
   "id": "b0991724a3a4e495",
   "outputs": [
    {
     "data": {
      "text/plain": [
       "2551"
      ]
     },
     "execution_count": 10,
     "metadata": {},
     "output_type": "execute_result"
    }
   ],
   "execution_count": 10
  },
  {
   "metadata": {},
   "cell_type": "markdown",
   "source": "Part 2",
   "id": "c8beae36230f033f"
  },
  {
   "metadata": {
    "ExecuteTime": {
     "end_time": "2024-12-04T12:16:14.775178Z",
     "start_time": "2024-12-04T12:16:14.771498Z"
    }
   },
   "cell_type": "code",
   "source": [
    "from numpy.lib.stride_tricks import sliding_window_view\n",
    "\n",
    "v = sliding_window_view(lines, (3,3))\n",
    "\n",
    "i_max, j_max, _, _ = v.shape"
   ],
   "id": "ac9e1f7cd265cafc",
   "outputs": [],
   "execution_count": 18
  },
  {
   "metadata": {
    "ExecuteTime": {
     "end_time": "2024-12-04T12:24:08.558086Z",
     "start_time": "2024-12-04T12:24:08.537332Z"
    }
   },
   "cell_type": "code",
   "source": [
    "total = 0\n",
    "for i in range(i_max):\n",
    "    for j in range(j_max):\n",
    "        current_block = v[i][j]\n",
    "        if current_block[1,1] == ord('A'):\n",
    "            if current_block[0,0] == current_block[0,2] == ord('M'):\n",
    "               if current_block[2,0] == current_block[2,2] == ord('S'):\n",
    "                   total += 1\n",
    "            elif current_block[0,0] == current_block[0,2] == ord('S'):\n",
    "               if current_block[2,0] == current_block[2,2] == ord('M'):\n",
    "                   total += 1\n",
    "            elif current_block[0,0] == current_block[2,0] == ord('M'):\n",
    "               if current_block[0,2] == current_block[2,2] == ord('S'):\n",
    "                   total += 1\n",
    "            elif current_block[0,0] == current_block[2,0] == ord('S'):\n",
    "               if current_block[0,2] == current_block[2,2] == ord('M'):\n",
    "                   total += 1\n",
    "                "
   ],
   "id": "ec078dbcb993185b",
   "outputs": [],
   "execution_count": 31
  },
  {
   "metadata": {
    "ExecuteTime": {
     "end_time": "2024-12-04T12:24:09.576574Z",
     "start_time": "2024-12-04T12:24:09.572218Z"
    }
   },
   "cell_type": "code",
   "source": "total",
   "id": "c2e2d98c55896d21",
   "outputs": [
    {
     "data": {
      "text/plain": [
       "1985"
      ]
     },
     "execution_count": 32,
     "metadata": {},
     "output_type": "execute_result"
    }
   ],
   "execution_count": 32
  },
  {
   "metadata": {},
   "cell_type": "code",
   "outputs": [],
   "execution_count": null,
   "source": "",
   "id": "97b33264a09fdd24"
  }
 ],
 "metadata": {
  "kernelspec": {
   "display_name": "Python 3",
   "language": "python",
   "name": "python3"
  },
  "language_info": {
   "codemirror_mode": {
    "name": "ipython",
    "version": 2
   },
   "file_extension": ".py",
   "mimetype": "text/x-python",
   "name": "python",
   "nbconvert_exporter": "python",
   "pygments_lexer": "ipython2",
   "version": "2.7.6"
  }
 },
 "nbformat": 4,
 "nbformat_minor": 5
}
