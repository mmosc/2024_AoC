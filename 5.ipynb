{
 "cells": [
  {
   "cell_type": "code",
   "id": "initial_id",
   "metadata": {
    "collapsed": true,
    "ExecuteTime": {
     "end_time": "2024-12-06T13:51:18.456234Z",
     "start_time": "2024-12-06T13:51:18.450771Z"
    }
   },
   "source": [
    "edges = []\n",
    "\n",
    "with open(\"./data/5_hops\") as hop_pairs:\n",
    "    for line in hop_pairs:\n",
    "        in_node, out_node = line.split(\"|\")\n",
    "        in_node, out_node = int(in_node), int(out_node)\n",
    "        edges += [(in_node, out_node)]"
   ],
   "outputs": [],
   "execution_count": 26
  },
  {
   "metadata": {
    "ExecuteTime": {
     "end_time": "2024-12-06T13:51:18.991929Z",
     "start_time": "2024-12-06T13:51:18.987849Z"
    }
   },
   "cell_type": "code",
   "source": [
    "import networkx as nx\n",
    "G = nx.DiGraph(edges)"
   ],
   "id": "500ad99147a2eff5",
   "outputs": [],
   "execution_count": 27
  },
  {
   "metadata": {
    "ExecuteTime": {
     "end_time": "2024-12-06T13:51:19.220620Z",
     "start_time": "2024-12-06T13:51:19.215040Z"
    }
   },
   "cell_type": "code",
   "source": "nx.is_tournament(G)",
   "id": "e7c028a3b8c938d2",
   "outputs": [
    {
     "data": {
      "text/plain": [
       "True"
      ]
     },
     "execution_count": 28,
     "metadata": {},
     "output_type": "execute_result"
    }
   ],
   "execution_count": 28
  },
  {
   "metadata": {
    "ExecuteTime": {
     "end_time": "2024-12-06T13:51:19.767210Z",
     "start_time": "2024-12-06T13:51:19.764262Z"
    }
   },
   "cell_type": "code",
   "source": "G.has_edge(13, 53)",
   "id": "5bac55d24659f7e0",
   "outputs": [
    {
     "data": {
      "text/plain": [
       "False"
      ]
     },
     "execution_count": 29,
     "metadata": {},
     "output_type": "execute_result"
    }
   ],
   "execution_count": 29
  },
  {
   "metadata": {
    "ExecuteTime": {
     "end_time": "2024-12-06T13:51:20.309319Z",
     "start_time": "2024-12-06T13:51:20.307195Z"
    }
   },
   "cell_type": "code",
   "source": "from tqdm import tqdm",
   "id": "7c824ad9616f72f0",
   "outputs": [],
   "execution_count": 30
  },
  {
   "metadata": {
    "ExecuteTime": {
     "end_time": "2024-12-06T13:51:23.821801Z",
     "start_time": "2024-12-06T13:51:23.810366Z"
    }
   },
   "cell_type": "code",
   "source": [
    "addends = []\n",
    "bad_lines = []\n",
    "\n",
    "with open(\"./data/5_input\") as input:\n",
    "    for line in tqdm(input, total=201):\n",
    "        pages = line.split(\",\")\n",
    "        pages = [int(page) for page in pages]\n",
    "        mid_index = int((len(pages) - 1)/2)\n",
    "        candidate_addend = pages[mid_index]\n",
    "        num_pages = len(pages)\n",
    "        good_pages = True\n",
    "        for i in range(num_pages):\n",
    "            for j in range(i+1, num_pages):\n",
    "                # if nx.tournament.is_reachable(G, pages[j], pages[i]):\n",
    "                if G.has_edge(pages[j], pages[i]):\n",
    "                    good_pages = False\n",
    "                    \n",
    "                    \n",
    "        if good_pages:\n",
    "            addends += [candidate_addend]\n",
    "        else:\n",
    "            bad_lines += [pages]"
   ],
   "id": "6adaa5750fd9c47",
   "outputs": [
    {
     "name": "stderr",
     "output_type": "stream",
     "text": [
      "100%|██████████| 201/201 [00:00<00:00, 35492.57it/s]\n"
     ]
    }
   ],
   "execution_count": 31
  },
  {
   "metadata": {
    "ExecuteTime": {
     "end_time": "2024-12-06T13:51:24.546888Z",
     "start_time": "2024-12-06T13:51:24.544147Z"
    }
   },
   "cell_type": "code",
   "source": "len(addends) + len(bad_lines)",
   "id": "df37ede4717a5341",
   "outputs": [
    {
     "data": {
      "text/plain": [
       "201"
      ]
     },
     "execution_count": 32,
     "metadata": {},
     "output_type": "execute_result"
    }
   ],
   "execution_count": 32
  },
  {
   "metadata": {},
   "cell_type": "markdown",
   "source": "",
   "id": "4c7d48f3bfb8c819"
  },
  {
   "metadata": {},
   "cell_type": "markdown",
   "source": "part 2",
   "id": "e822fd9ea0c0594b"
  },
  {
   "metadata": {
    "ExecuteTime": {
     "end_time": "2024-12-06T13:51:26.236444Z",
     "start_time": "2024-12-06T13:51:26.228614Z"
    }
   },
   "cell_type": "code",
   "source": [
    "addends = []\n",
    "\n",
    "# We can actually inspect the first half, only\n",
    "with open(\"./data/5_input_test\") as input:\n",
    "    for line_index in tqdm(range(len(bad_lines))):\n",
    "        length = len(bad_lines[line_index])\n",
    "        mid_index = int((length - 1)/2)\n",
    "        is_ordered = False\n",
    "        while not is_ordered:\n",
    "            for i in range(mid_index + 1):\n",
    "                for j in range(i + 1, length):\n",
    "                    if G.has_edge(bad_lines[line_index][j], bad_lines[line_index][i]):\n",
    "                        bad_lines[line_index].insert(i, bad_lines[line_index].pop(j))\n",
    "                        j = j - 1\n",
    "            if i == mid_index:\n",
    "                is_ordered = True\n",
    "                        "
   ],
   "id": "1f085004fc6f7e20",
   "outputs": [
    {
     "name": "stderr",
     "output_type": "stream",
     "text": [
      "100%|██████████| 74/74 [00:00<00:00, 53894.51it/s]\n"
     ]
    }
   ],
   "execution_count": 33
  },
  {
   "metadata": {
    "ExecuteTime": {
     "end_time": "2024-12-06T13:51:26.925929Z",
     "start_time": "2024-12-06T13:51:26.922539Z"
    }
   },
   "cell_type": "code",
   "source": [
    "for pages in bad_lines:\n",
    "    mid_index = int((len(pages) - 1)/2)\n",
    "    candidate_addend = pages[mid_index]\n",
    "\n",
    "    addends += [candidate_addend]"
   ],
   "id": "cb004dac2c60d2ba",
   "outputs": [],
   "execution_count": 34
  },
  {
   "metadata": {
    "ExecuteTime": {
     "end_time": "2024-12-06T13:51:27.387668Z",
     "start_time": "2024-12-06T13:51:27.384013Z"
    }
   },
   "cell_type": "code",
   "source": "sum(addends)",
   "id": "fa64bc5d7d88f6e2",
   "outputs": [
    {
     "data": {
      "text/plain": [
       "4230"
      ]
     },
     "execution_count": 35,
     "metadata": {},
     "output_type": "execute_result"
    }
   ],
   "execution_count": 35
  },
  {
   "metadata": {},
   "cell_type": "code",
   "outputs": [],
   "execution_count": null,
   "source": "",
   "id": "4741be7db0ca376a"
  }
 ],
 "metadata": {
  "kernelspec": {
   "display_name": "Python 3",
   "language": "python",
   "name": "python3"
  },
  "language_info": {
   "codemirror_mode": {
    "name": "ipython",
    "version": 2
   },
   "file_extension": ".py",
   "mimetype": "text/x-python",
   "name": "python",
   "nbconvert_exporter": "python",
   "pygments_lexer": "ipython2",
   "version": "2.7.6"
  }
 },
 "nbformat": 4,
 "nbformat_minor": 5
}
