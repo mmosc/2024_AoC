{
 "cells": [
  {
   "metadata": {
    "ExecuteTime": {
     "end_time": "2024-12-04T10:11:15.679065Z",
     "start_time": "2024-12-04T10:11:15.673730Z"
    }
   },
   "cell_type": "code",
   "source": [
    "file = open(\"./data/3_input\", \"r\")\n",
    "content = file.read()\n",
    "file.close()\n",
    "\n",
    "import re\n",
    "\n",
    "pattern = re.compile(r\"mul\\([0-9]{1,3},[0-9]{1,3}\\)\")\n",
    "matches = [m.group() for m in re.finditer(pattern, content)]\n",
    "list_of_operands = [match[match.find(\"(\") + 1:match.find(\")\")].split(',') for match in matches]\n",
    "\n",
    "products = []\n",
    "for operands in list_of_operands:\n",
    "    operands = [int(operand) for operand in operands]\n",
    "    products += [operands[0] * operands[1]]\n",
    "\n"
   ],
   "id": "e82e96c6b0023363",
   "outputs": [],
   "execution_count": 34
  },
  {
   "metadata": {
    "ExecuteTime": {
     "end_time": "2024-12-04T09:56:15.374033Z",
     "start_time": "2024-12-04T09:56:15.367568Z"
    }
   },
   "cell_type": "code",
   "source": "sum(products)",
   "id": "304dbfb9e96b401b",
   "outputs": [
    {
     "data": {
      "text/plain": [
       "156388521"
      ]
     },
     "execution_count": 3,
     "metadata": {},
     "output_type": "execute_result"
    }
   ],
   "execution_count": 3
  },
  {
   "metadata": {},
   "cell_type": "markdown",
   "source": "Part 2",
   "id": "13050512c649a0e1"
  },
  {
   "metadata": {
    "ExecuteTime": {
     "end_time": "2024-12-04T10:07:57.881235Z",
     "start_time": "2024-12-04T10:07:57.877844Z"
    }
   },
   "cell_type": "code",
   "source": [
    "# Identify substrings betwen dos and donts\n",
    "\n",
    "\n",
    "dos_pattern = re.compile(r\"do\\(\\)\")\n",
    "dont_pattern = re.compile(r\"don't\\(\\)\")\n",
    "\n",
    "dos_positions = [m.start() for m in re.finditer(dos_pattern, content)]\n",
    "dont_positions = [m.start() for m in re.finditer(dont_pattern, content)]"
   ],
   "id": "2057a489ca82c402",
   "outputs": [],
   "execution_count": 30
  },
  {
   "metadata": {
    "ExecuteTime": {
     "end_time": "2024-12-04T10:07:58.403719Z",
     "start_time": "2024-12-04T10:07:58.399883Z"
    }
   },
   "cell_type": "code",
   "source": "max(dos_positions), max(dont_positions)\n",
   "id": "b36a415b6188a880",
   "outputs": [
    {
     "data": {
      "text/plain": [
       "(18153, 18260)"
      ]
     },
     "execution_count": 31,
     "metadata": {},
     "output_type": "execute_result"
    }
   ],
   "execution_count": 31
  },
  {
   "metadata": {
    "ExecuteTime": {
     "end_time": "2024-12-04T10:13:53.770414Z",
     "start_time": "2024-12-04T10:13:53.740708Z"
    }
   },
   "cell_type": "code",
   "source": "from tqdm import tqdm",
   "id": "464dd12d9c8ee32b",
   "outputs": [],
   "execution_count": 37
  },
  {
   "metadata": {
    "ExecuteTime": {
     "end_time": "2024-12-04T10:15:26.363068Z",
     "start_time": "2024-12-04T10:15:26.339900Z"
    }
   },
   "cell_type": "code",
   "source": [
    "good_starts = []\n",
    "do = True\n",
    "for i in tqdm(range(len(content))):\n",
    "    if i in dont_positions:\n",
    "        do = False\n",
    "    elif i in dos_positions:\n",
    "        do = True\n",
    "    if do:\n",
    "        good_starts += [i]\n",
    "        "
   ],
   "id": "5a9ef32028e6ba02",
   "outputs": [
    {
     "name": "stderr",
     "output_type": "stream",
     "text": [
      "100%|██████████| 18340/18340 [00:00<00:00, 1072030.32it/s]\n"
     ]
    }
   ],
   "execution_count": 40
  },
  {
   "metadata": {
    "ExecuteTime": {
     "end_time": "2024-12-04T10:16:59.171856Z",
     "start_time": "2024-12-04T10:16:59.167848Z"
    }
   },
   "cell_type": "code",
   "source": "dont_positions[0], good_starts[280:290]",
   "id": "53a332e9595d58b6",
   "outputs": [
    {
     "data": {
      "text/plain": [
       "(282, [280, 281, 451, 452, 453, 454, 455, 456, 457, 458])"
      ]
     },
     "execution_count": 50,
     "metadata": {},
     "output_type": "execute_result"
    }
   ],
   "execution_count": 50
  },
  {
   "metadata": {
    "ExecuteTime": {
     "end_time": "2024-12-04T10:18:14.787863Z",
     "start_time": "2024-12-04T10:18:14.757042Z"
    }
   },
   "cell_type": "code",
   "source": [
    "pattern = re.compile(r\"mul\\([0-9]{1,3},[0-9]{1,3}\\)\")\n",
    "matches = []\n",
    "\n",
    "for m in re.finditer(pattern, content):\n",
    "    if m.start() in good_starts:\n",
    "        matches += [m.group()]"
   ],
   "id": "f5dd3de1d116577",
   "outputs": [],
   "execution_count": 51
  },
  {
   "metadata": {
    "ExecuteTime": {
     "end_time": "2024-12-04T10:18:18.578672Z",
     "start_time": "2024-12-04T10:18:18.573213Z"
    }
   },
   "cell_type": "code",
   "source": "matches",
   "id": "65c120735f5214dc",
   "outputs": [
    {
     "data": {
      "text/plain": [
       "['mul(5,253)',\n",
       " 'mul(757,101)',\n",
       " 'mul(394,983)',\n",
       " 'mul(924,201)',\n",
       " 'mul(44,185)',\n",
       " 'mul(116,356)',\n",
       " 'mul(792,23)',\n",
       " 'mul(389,401)',\n",
       " 'mul(557,491)',\n",
       " 'mul(584,228)',\n",
       " 'mul(411,428)',\n",
       " 'mul(722,379)',\n",
       " 'mul(471,731)',\n",
       " 'mul(729,484)',\n",
       " 'mul(672,572)',\n",
       " 'mul(375,937)',\n",
       " 'mul(549,213)',\n",
       " 'mul(177,863)',\n",
       " 'mul(486,207)',\n",
       " 'mul(917,38)',\n",
       " 'mul(255,420)',\n",
       " 'mul(67,558)',\n",
       " 'mul(141,261)',\n",
       " 'mul(834,258)',\n",
       " 'mul(327,459)',\n",
       " 'mul(227,420)',\n",
       " 'mul(696,517)',\n",
       " 'mul(843,490)',\n",
       " 'mul(653,546)',\n",
       " 'mul(121,726)',\n",
       " 'mul(792,224)',\n",
       " 'mul(835,136)',\n",
       " 'mul(597,336)',\n",
       " 'mul(222,657)',\n",
       " 'mul(501,306)',\n",
       " 'mul(660,306)',\n",
       " 'mul(884,257)',\n",
       " 'mul(180,820)',\n",
       " 'mul(770,324)',\n",
       " 'mul(987,378)',\n",
       " 'mul(248,646)',\n",
       " 'mul(185,819)',\n",
       " 'mul(442,907)',\n",
       " 'mul(549,388)',\n",
       " 'mul(771,799)',\n",
       " 'mul(382,131)',\n",
       " 'mul(412,25)',\n",
       " 'mul(616,919)',\n",
       " 'mul(946,363)',\n",
       " 'mul(316,505)',\n",
       " 'mul(363,589)',\n",
       " 'mul(38,452)',\n",
       " 'mul(445,9)',\n",
       " 'mul(505,640)',\n",
       " 'mul(899,766)',\n",
       " 'mul(485,214)',\n",
       " 'mul(469,95)',\n",
       " 'mul(545,577)',\n",
       " 'mul(625,950)',\n",
       " 'mul(830,164)',\n",
       " 'mul(530,4)',\n",
       " 'mul(866,725)',\n",
       " 'mul(731,948)',\n",
       " 'mul(33,176)',\n",
       " 'mul(398,672)',\n",
       " 'mul(148,678)',\n",
       " 'mul(801,30)',\n",
       " 'mul(510,36)',\n",
       " 'mul(283,696)',\n",
       " 'mul(559,572)',\n",
       " 'mul(762,321)',\n",
       " 'mul(909,480)',\n",
       " 'mul(184,545)',\n",
       " 'mul(986,322)',\n",
       " 'mul(581,609)',\n",
       " 'mul(434,891)',\n",
       " 'mul(728,525)',\n",
       " 'mul(552,165)',\n",
       " 'mul(23,400)',\n",
       " 'mul(167,183)',\n",
       " 'mul(157,343)',\n",
       " 'mul(796,355)',\n",
       " 'mul(312,781)',\n",
       " 'mul(216,896)',\n",
       " 'mul(690,51)',\n",
       " 'mul(55,840)',\n",
       " 'mul(863,343)',\n",
       " 'mul(425,648)',\n",
       " 'mul(763,181)',\n",
       " 'mul(794,818)',\n",
       " 'mul(213,528)',\n",
       " 'mul(502,753)',\n",
       " 'mul(104,293)',\n",
       " 'mul(318,737)',\n",
       " 'mul(402,74)',\n",
       " 'mul(642,782)',\n",
       " 'mul(714,667)',\n",
       " 'mul(283,331)',\n",
       " 'mul(243,952)',\n",
       " 'mul(915,41)',\n",
       " 'mul(947,866)',\n",
       " 'mul(221,297)',\n",
       " 'mul(332,570)',\n",
       " 'mul(158,640)',\n",
       " 'mul(970,327)',\n",
       " 'mul(851,279)',\n",
       " 'mul(159,479)',\n",
       " 'mul(692,852)',\n",
       " 'mul(332,725)',\n",
       " 'mul(487,272)',\n",
       " 'mul(428,736)',\n",
       " 'mul(814,493)',\n",
       " 'mul(654,203)',\n",
       " 'mul(635,667)',\n",
       " 'mul(427,557)',\n",
       " 'mul(924,456)',\n",
       " 'mul(91,270)',\n",
       " 'mul(836,70)',\n",
       " 'mul(326,92)',\n",
       " 'mul(377,382)',\n",
       " 'mul(183,94)',\n",
       " 'mul(436,39)',\n",
       " 'mul(10,524)',\n",
       " 'mul(523,67)',\n",
       " 'mul(167,645)',\n",
       " 'mul(305,169)',\n",
       " 'mul(940,645)',\n",
       " 'mul(964,882)',\n",
       " 'mul(544,861)',\n",
       " 'mul(171,396)',\n",
       " 'mul(98,466)',\n",
       " 'mul(202,977)',\n",
       " 'mul(65,156)',\n",
       " 'mul(916,837)',\n",
       " 'mul(248,949)',\n",
       " 'mul(439,753)',\n",
       " 'mul(889,297)',\n",
       " 'mul(665,576)',\n",
       " 'mul(783,215)',\n",
       " 'mul(101,739)',\n",
       " 'mul(935,345)',\n",
       " 'mul(344,351)',\n",
       " 'mul(349,325)',\n",
       " 'mul(677,728)',\n",
       " 'mul(34,791)',\n",
       " 'mul(162,982)',\n",
       " 'mul(352,740)',\n",
       " 'mul(409,310)',\n",
       " 'mul(969,23)',\n",
       " 'mul(6,54)',\n",
       " 'mul(465,807)',\n",
       " 'mul(526,458)',\n",
       " 'mul(396,93)',\n",
       " 'mul(719,44)',\n",
       " 'mul(404,362)',\n",
       " 'mul(402,634)',\n",
       " 'mul(620,339)',\n",
       " 'mul(261,803)',\n",
       " 'mul(644,769)',\n",
       " 'mul(794,228)',\n",
       " 'mul(666,12)',\n",
       " 'mul(942,336)',\n",
       " 'mul(608,425)',\n",
       " 'mul(657,344)',\n",
       " 'mul(952,983)',\n",
       " 'mul(563,153)',\n",
       " 'mul(597,553)',\n",
       " 'mul(42,25)',\n",
       " 'mul(243,985)',\n",
       " 'mul(748,181)',\n",
       " 'mul(513,836)',\n",
       " 'mul(528,931)',\n",
       " 'mul(394,906)',\n",
       " 'mul(748,101)',\n",
       " 'mul(588,99)',\n",
       " 'mul(762,499)',\n",
       " 'mul(115,70)',\n",
       " 'mul(358,497)',\n",
       " 'mul(324,444)',\n",
       " 'mul(504,369)',\n",
       " 'mul(272,976)',\n",
       " 'mul(380,961)',\n",
       " 'mul(701,103)',\n",
       " 'mul(57,637)',\n",
       " 'mul(242,591)',\n",
       " 'mul(727,599)',\n",
       " 'mul(127,428)',\n",
       " 'mul(731,342)',\n",
       " 'mul(601,697)',\n",
       " 'mul(603,37)',\n",
       " 'mul(937,728)',\n",
       " 'mul(305,102)',\n",
       " 'mul(296,72)',\n",
       " 'mul(132,763)',\n",
       " 'mul(97,481)',\n",
       " 'mul(454,506)',\n",
       " 'mul(814,106)',\n",
       " 'mul(739,211)',\n",
       " 'mul(87,206)',\n",
       " 'mul(442,17)',\n",
       " 'mul(452,266)',\n",
       " 'mul(262,674)',\n",
       " 'mul(327,845)',\n",
       " 'mul(86,371)',\n",
       " 'mul(637,103)',\n",
       " 'mul(358,845)',\n",
       " 'mul(216,782)',\n",
       " 'mul(111,955)',\n",
       " 'mul(791,328)',\n",
       " 'mul(946,620)',\n",
       " 'mul(623,64)',\n",
       " 'mul(986,415)',\n",
       " 'mul(38,403)',\n",
       " 'mul(91,193)',\n",
       " 'mul(464,529)',\n",
       " 'mul(677,376)',\n",
       " 'mul(576,14)',\n",
       " 'mul(70,850)',\n",
       " 'mul(705,544)',\n",
       " 'mul(830,398)',\n",
       " 'mul(626,675)',\n",
       " 'mul(574,508)',\n",
       " 'mul(306,829)',\n",
       " 'mul(548,420)',\n",
       " 'mul(332,202)',\n",
       " 'mul(72,648)',\n",
       " 'mul(866,929)',\n",
       " 'mul(563,200)',\n",
       " 'mul(584,32)',\n",
       " 'mul(401,424)',\n",
       " 'mul(897,939)',\n",
       " 'mul(389,118)',\n",
       " 'mul(146,178)',\n",
       " 'mul(386,610)',\n",
       " 'mul(178,632)',\n",
       " 'mul(822,859)',\n",
       " 'mul(774,887)',\n",
       " 'mul(316,546)',\n",
       " 'mul(433,570)',\n",
       " 'mul(12,582)',\n",
       " 'mul(474,681)',\n",
       " 'mul(288,311)',\n",
       " 'mul(934,466)',\n",
       " 'mul(628,780)',\n",
       " 'mul(813,147)',\n",
       " 'mul(564,631)',\n",
       " 'mul(972,373)',\n",
       " 'mul(188,118)',\n",
       " 'mul(630,960)',\n",
       " 'mul(105,916)',\n",
       " 'mul(215,263)',\n",
       " 'mul(257,474)',\n",
       " 'mul(565,99)',\n",
       " 'mul(195,386)',\n",
       " 'mul(695,513)',\n",
       " 'mul(354,472)',\n",
       " 'mul(420,822)',\n",
       " 'mul(409,240)',\n",
       " 'mul(65,591)',\n",
       " 'mul(2,270)',\n",
       " 'mul(895,507)',\n",
       " 'mul(13,268)',\n",
       " 'mul(37,808)',\n",
       " 'mul(19,585)',\n",
       " 'mul(457,746)',\n",
       " 'mul(715,809)',\n",
       " 'mul(542,65)',\n",
       " 'mul(871,498)',\n",
       " 'mul(438,984)',\n",
       " 'mul(176,297)',\n",
       " 'mul(404,56)',\n",
       " 'mul(617,647)',\n",
       " 'mul(412,110)',\n",
       " 'mul(158,588)',\n",
       " 'mul(383,762)',\n",
       " 'mul(215,479)',\n",
       " 'mul(618,506)',\n",
       " 'mul(597,824)',\n",
       " 'mul(130,88)',\n",
       " 'mul(673,686)',\n",
       " 'mul(404,486)',\n",
       " 'mul(335,183)',\n",
       " 'mul(209,514)',\n",
       " 'mul(290,830)',\n",
       " 'mul(127,362)',\n",
       " 'mul(218,584)',\n",
       " 'mul(806,757)',\n",
       " 'mul(416,926)',\n",
       " 'mul(689,5)',\n",
       " 'mul(624,102)',\n",
       " 'mul(689,339)',\n",
       " 'mul(976,335)',\n",
       " 'mul(488,361)',\n",
       " 'mul(989,486)',\n",
       " 'mul(353,226)',\n",
       " 'mul(452,316)',\n",
       " 'mul(156,967)',\n",
       " 'mul(19,394)',\n",
       " 'mul(174,673)',\n",
       " 'mul(874,712)',\n",
       " 'mul(241,907)',\n",
       " 'mul(124,628)',\n",
       " 'mul(125,59)',\n",
       " 'mul(804,677)',\n",
       " 'mul(879,424)',\n",
       " 'mul(884,639)',\n",
       " 'mul(734,624)',\n",
       " 'mul(279,559)',\n",
       " 'mul(649,790)',\n",
       " 'mul(534,924)',\n",
       " 'mul(968,123)',\n",
       " 'mul(250,420)',\n",
       " 'mul(337,422)',\n",
       " 'mul(76,293)',\n",
       " 'mul(293,210)',\n",
       " 'mul(438,928)',\n",
       " 'mul(183,794)',\n",
       " 'mul(332,416)',\n",
       " 'mul(235,409)',\n",
       " 'mul(4,876)',\n",
       " 'mul(779,7)',\n",
       " 'mul(257,563)',\n",
       " 'mul(269,328)',\n",
       " 'mul(152,343)',\n",
       " 'mul(520,584)',\n",
       " 'mul(585,847)',\n",
       " 'mul(205,503)',\n",
       " 'mul(480,92)',\n",
       " 'mul(439,908)',\n",
       " 'mul(190,679)',\n",
       " 'mul(756,714)',\n",
       " 'mul(866,764)',\n",
       " 'mul(258,363)',\n",
       " 'mul(702,803)',\n",
       " 'mul(417,62)',\n",
       " 'mul(405,512)',\n",
       " 'mul(680,378)',\n",
       " 'mul(272,215)',\n",
       " 'mul(342,699)',\n",
       " 'mul(230,407)',\n",
       " 'mul(272,456)',\n",
       " 'mul(656,911)',\n",
       " 'mul(369,320)',\n",
       " 'mul(430,762)']"
      ]
     },
     "execution_count": 52,
     "metadata": {},
     "output_type": "execute_result"
    }
   ],
   "execution_count": 52
  },
  {
   "metadata": {
    "ExecuteTime": {
     "end_time": "2024-12-04T10:18:24.137643Z",
     "start_time": "2024-12-04T10:18:24.133779Z"
    }
   },
   "cell_type": "code",
   "source": [
    "list_of_operands = [match[match.find(\"(\") + 1:match.find(\")\")].split(',') for match in matches]\n",
    "\n",
    "products = []\n",
    "for operands in list_of_operands:\n",
    "    operands = [int(operand) for operand in operands]\n",
    "    products += [operands[0] * operands[1]]\n"
   ],
   "id": "31e03c3af74510d7",
   "outputs": [],
   "execution_count": 53
  },
  {
   "metadata": {
    "ExecuteTime": {
     "end_time": "2024-12-04T10:18:39.513081Z",
     "start_time": "2024-12-04T10:18:39.508327Z"
    }
   },
   "cell_type": "code",
   "source": "sum(products)",
   "id": "52984dbb4a4f17a5",
   "outputs": [
    {
     "data": {
      "text/plain": [
       "75920122"
      ]
     },
     "execution_count": 55,
     "metadata": {},
     "output_type": "execute_result"
    }
   ],
   "execution_count": 55
  },
  {
   "metadata": {},
   "cell_type": "code",
   "outputs": [],
   "execution_count": null,
   "source": "",
   "id": "13d7f3aad7381293"
  }
 ],
 "metadata": {
  "kernelspec": {
   "display_name": "Python 3",
   "language": "python",
   "name": "python3"
  },
  "language_info": {
   "codemirror_mode": {
    "name": "ipython",
    "version": 2
   },
   "file_extension": ".py",
   "mimetype": "text/x-python",
   "name": "python",
   "nbconvert_exporter": "python",
   "pygments_lexer": "ipython2",
   "version": "2.7.6"
  }
 },
 "nbformat": 4,
 "nbformat_minor": 5
}
