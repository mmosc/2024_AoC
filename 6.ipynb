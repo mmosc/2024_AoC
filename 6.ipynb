{
 "cells": [
  {
   "metadata": {
    "ExecuteTime": {
     "end_time": "2024-12-06T16:12:42.617017Z",
     "start_time": "2024-12-06T16:12:42.568981Z"
    }
   },
   "cell_type": "code",
   "source": "import numpy as np",
   "id": "21be5cf1792cfdbc",
   "outputs": [],
   "execution_count": 1
  },
  {
   "cell_type": "code",
   "id": "initial_id",
   "metadata": {
    "collapsed": true,
    "ExecuteTime": {
     "end_time": "2024-12-06T16:12:43.031103Z",
     "start_time": "2024-12-06T16:12:43.023671Z"
    }
   },
   "source": [
    "file = open(\"./data/6_input\", \"r\")\n",
    "lines = []\n",
    "\n",
    "for line in file:\n",
    "    line = line.rstrip()\n",
    "    line = [ord(letter) for letter in line]\n",
    "    lines += [line]\n",
    "\n",
    "file.close()\n",
    "\n",
    "lines = np.array(lines)\n",
    "\n",
    "chars = set([letter for line in lines for letter in line])\n",
    "positional_characters = ['^', 'v', '<', '>']\n",
    "chars = chars.union(set([ord(char) for char in positional_characters]))\n",
    "ordinal_to_char = {ordinal: chr(ordinal) for ordinal in chars}\n",
    "char_to_ordinal = {char: ordinal for ordinal, char in ordinal_to_char.items()}\n",
    "\n",
    "positional_ordinals = [char_to_ordinal[char] for char in positional_characters]\n",
    "\n",
    "past_positions = set()\n",
    "\n",
    "mask_position = np.isin(lines, positional_ordinals)\n",
    "current_position = tuple(np.argwhere(mask_position)[0])\n",
    "current_char = chr(lines[mask_position][0])\n",
    "past_positions.add(current_position)"
   ],
   "outputs": [],
   "execution_count": 2
  },
  {
   "metadata": {
    "ExecuteTime": {
     "end_time": "2024-12-06T16:12:43.442704Z",
     "start_time": "2024-12-06T16:12:43.416841Z"
    }
   },
   "cell_type": "code",
   "source": [
    "within_bound = True\n",
    "while within_bound & (current_position[0] * current_position[1] > 0):\n",
    "    try:\n",
    "        if current_char == '^':\n",
    "            next_candidate_position = tuple(current_position + np.array((-1, 0)))\n",
    "            \n",
    "            if lines[next_candidate_position] == ord('#'):\n",
    "                current_char = '>'\n",
    "            else:\n",
    "                current_position = next_candidate_position\n",
    "                past_positions.add(current_position)\n",
    "                \n",
    "        elif current_char == '>':\n",
    "            next_candidate_position = tuple(current_position + np.array((0, 1)))\n",
    "            \n",
    "            if lines[next_candidate_position] == ord('#'):\n",
    "                current_char = 'v'\n",
    "            else:\n",
    "                current_position = next_candidate_position\n",
    "                past_positions.add(current_position)\n",
    "            \n",
    "        elif current_char == '<':\n",
    "            next_candidate_position = tuple(current_position + np.array((0, -1)))\n",
    "            \n",
    "            if lines[next_candidate_position] == ord('#'):\n",
    "                current_char = '^'\n",
    "            else:\n",
    "                current_position = next_candidate_position\n",
    "                past_positions.add(current_position)\n",
    "                \n",
    "        elif current_char == 'v':\n",
    "            next_candidate_position = tuple(current_position + np.array((1, 0)))\n",
    "            \n",
    "            if lines[next_candidate_position] == ord('#'):\n",
    "                current_char = '<'\n",
    "            else:\n",
    "                current_position = next_candidate_position\n",
    "                past_positions.add(current_position)\n",
    "    except IndexError:\n",
    "        within_bound = False\n"
   ],
   "id": "f37af5f050291621",
   "outputs": [],
   "execution_count": 3
  },
  {
   "metadata": {
    "ExecuteTime": {
     "end_time": "2024-12-06T16:12:43.863002Z",
     "start_time": "2024-12-06T16:12:43.859315Z"
    }
   },
   "cell_type": "code",
   "source": "len(past_positions)",
   "id": "a0a00bb99e411533",
   "outputs": [
    {
     "data": {
      "text/plain": [
       "5444"
      ]
     },
     "execution_count": 4,
     "metadata": {},
     "output_type": "execute_result"
    }
   ],
   "execution_count": 4
  },
  {
   "metadata": {},
   "cell_type": "markdown",
   "source": "Part 2",
   "id": "ed0c9a0f347ac1f7"
  },
  {
   "metadata": {
    "ExecuteTime": {
     "end_time": "2024-12-06T16:12:44.879810Z",
     "start_time": "2024-12-06T16:12:44.876954Z"
    }
   },
   "cell_type": "code",
   "source": [
    "mask_position = np.isin(lines, positional_ordinals)\n",
    "current_position = tuple(np.argwhere(mask_position)[0])\n",
    "current_char = chr(lines[mask_position][0])\n",
    "\n",
    "starting_position, starting_char = current_position, current_char"
   ],
   "id": "ed2793be2b16f1c8",
   "outputs": [],
   "execution_count": 5
  },
  {
   "metadata": {
    "ExecuteTime": {
     "end_time": "2024-12-06T16:12:45.349341Z",
     "start_time": "2024-12-06T16:12:45.344699Z"
    }
   },
   "cell_type": "code",
   "source": "from tqdm import tqdm",
   "id": "c3c5be7cbf7c68b3",
   "outputs": [],
   "execution_count": 6
  },
  {
   "metadata": {
    "ExecuteTime": {
     "end_time": "2024-12-06T16:12:46.009008Z",
     "start_time": "2024-12-06T16:12:46.004648Z"
    }
   },
   "cell_type": "code",
   "source": "lines",
   "id": "2e5bd319813ee74f",
   "outputs": [
    {
     "data": {
      "text/plain": [
       "array([[46, 46, 46, ..., 46, 46, 46],\n",
       "       [46, 46, 46, ..., 46, 35, 46],\n",
       "       [46, 46, 46, ..., 46, 46, 35],\n",
       "       ...,\n",
       "       [46, 46, 46, ..., 46, 46, 46],\n",
       "       [46, 46, 46, ..., 46, 46, 46],\n",
       "       [46, 46, 46, ..., 46, 46, 46]])"
      ]
     },
     "execution_count": 7,
     "metadata": {},
     "output_type": "execute_result"
    }
   ],
   "execution_count": 7
  },
  {
   "metadata": {
    "ExecuteTime": {
     "end_time": "2024-12-06T16:17:34.950315Z",
     "start_time": "2024-12-06T16:12:48.371136Z"
    }
   },
   "cell_type": "code",
   "source": [
    "total_loops = 0\n",
    "\n",
    "for i in tqdm(range(lines.shape[0])):\n",
    "    for j in range(lines.shape[1]):\n",
    "        current_position, current_char = starting_position, starting_char\n",
    "        past_positions_and_char = set()\n",
    "        past_positions_and_char.add((current_position, current_char))\n",
    "        \n",
    "        within_bound = True\n",
    "        with_obstacle = np.copy(lines)\n",
    "        if with_obstacle[i,j] == ord('#') or with_obstacle[i,j] == ord('v') or with_obstacle[i,j] == ord('<') or with_obstacle[i,j] == ord('>') or with_obstacle[i,j] == ord('^'):\n",
    "            pass\n",
    "        else:\n",
    "            with_obstacle[i, j] =  ord('#')\n",
    "            while within_bound & (current_position[0] * current_position[1] > 0):\n",
    "                try:\n",
    "                    if current_char == '^':\n",
    "                        next_candidate_position = tuple(current_position + np.array((-1, 0)))\n",
    "                        if (next_candidate_position, current_char) in past_positions_and_char:\n",
    "                            total_loops += 1\n",
    "                            within_bound = False\n",
    "                        \n",
    "                        \n",
    "                        elif with_obstacle[next_candidate_position] == ord('#'):\n",
    "                            current_char = '>'\n",
    "                        else:\n",
    "                            current_position = next_candidate_position\n",
    "                            past_positions_and_char.add((current_position, current_char))\n",
    "                            \n",
    "                    elif current_char == '>':\n",
    "                        next_candidate_position = tuple(current_position + np.array((0, 1)))\n",
    "                        if (next_candidate_position, current_char) in past_positions_and_char:\n",
    "                            total_loops += 1\n",
    "                            within_bound = False\n",
    "                        \n",
    "                        elif with_obstacle[next_candidate_position] == ord('#'):\n",
    "                            current_char = 'v'\n",
    "                        else:\n",
    "                            current_position = next_candidate_position\n",
    "                            past_positions_and_char.add((current_position, current_char))\n",
    "                        \n",
    "                    elif current_char == '<':\n",
    "                        next_candidate_position = tuple(current_position + np.array((0, -1)))\n",
    "                        if (next_candidate_position, current_char) in past_positions_and_char:\n",
    "                            total_loops += 1\n",
    "                            within_bound = False\n",
    "                        \n",
    "                        elif with_obstacle[next_candidate_position] == ord('#'):\n",
    "                            current_char = '^'\n",
    "                        else:\n",
    "                            current_position = next_candidate_position\n",
    "                            past_positions_and_char.add((current_position, current_char))\n",
    "                            \n",
    "                    elif current_char == 'v':\n",
    "                        next_candidate_position = tuple(current_position + np.array((1, 0)))\n",
    "                        if (next_candidate_position, current_char) in past_positions_and_char:\n",
    "                            total_loops += 1\n",
    "                            within_bound = False\n",
    "                        \n",
    "                        elif with_obstacle[next_candidate_position] == ord('#'):\n",
    "                            current_char = '<'\n",
    "                        else:\n",
    "                            current_position = next_candidate_position\n",
    "                            past_positions_and_char.add((current_position, current_char))\n",
    "                except IndexError:\n",
    "                    within_bound = False\n"
   ],
   "id": "e4f1c3e734267d7e",
   "outputs": [
    {
     "name": "stderr",
     "output_type": "stream",
     "text": [
      "100%|██████████| 130/130 [04:46<00:00,  2.20s/it]\n"
     ]
    }
   ],
   "execution_count": 8
  },
  {
   "metadata": {
    "ExecuteTime": {
     "end_time": "2024-12-06T16:17:43.341519Z",
     "start_time": "2024-12-06T16:17:43.338254Z"
    }
   },
   "cell_type": "code",
   "source": "total_loops",
   "id": "ac70582d4f9d6c38",
   "outputs": [
    {
     "data": {
      "text/plain": [
       "1946"
      ]
     },
     "execution_count": 10,
     "metadata": {},
     "output_type": "execute_result"
    }
   ],
   "execution_count": 10
  },
  {
   "metadata": {},
   "cell_type": "code",
   "outputs": [],
   "execution_count": null,
   "source": "",
   "id": "712f185c42bedbf0"
  }
 ],
 "metadata": {
  "kernelspec": {
   "display_name": "Python 3",
   "language": "python",
   "name": "python3"
  },
  "language_info": {
   "codemirror_mode": {
    "name": "ipython",
    "version": 2
   },
   "file_extension": ".py",
   "mimetype": "text/x-python",
   "name": "python",
   "nbconvert_exporter": "python",
   "pygments_lexer": "ipython2",
   "version": "2.7.6"
  }
 },
 "nbformat": 4,
 "nbformat_minor": 5
}
