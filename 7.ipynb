{
 "cells": [
  {
   "metadata": {
    "jupyter": {
     "is_executing": true
    }
   },
   "cell_type": "code",
   "source": [
    "import numpy as np\n",
    "import itertools\n",
    "operations = ['plus','times']\n"
   ],
   "id": "acefa8696a8d6b3",
   "outputs": [],
   "execution_count": null
  },
  {
   "cell_type": "code",
   "id": "initial_id",
   "metadata": {
    "collapsed": true,
    "jupyter": {
     "is_executing": true
    }
   },
   "source": [
    "filename = '/content/sample_data/7_input'\n",
    "total = 0\n",
    "with open(filename) as file:\n",
    "  for line in file:\n",
    "    already_tested = False\n",
    "    first, second = [part.strip() for part in line.strip().split(':')]\n",
    "    result = int(first)\n",
    "    second = second.strip().split(' ')\n",
    "    operands = np.array([int(i) for i in second])\n",
    "    if result < operands.max():\n",
    "      print(result)\n",
    "      continue\n",
    "    for candidate_sequence in itertools.product(operations, repeat=len(second) - 1):\n",
    "      if already_tested == True:\n",
    "        continue\n",
    "      else:\n",
    "        current_result = operands[0]\n",
    "        for i in range(len(second) - 1):\n",
    "          # print(current_result, candidate_sequence[i])\n",
    "          current_result = current_result + operands[i + 1] if candidate_sequence[i] == 'plus' else current_result * operands[i + 1]\n",
    "          # print(current_result)\n",
    "          if current_result > result:\n",
    "            break\n",
    "        if (i == len(second) - 2) & (current_result == result):\n",
    "          already_tested = True\n",
    "          total += current_result"
   ],
   "outputs": [],
   "execution_count": null
  },
  {
   "metadata": {},
   "cell_type": "code",
   "outputs": [],
   "execution_count": null,
   "source": "total",
   "id": "6e7447c70b6f5a65"
  },
  {
   "metadata": {},
   "cell_type": "code",
   "outputs": [],
   "execution_count": null,
   "source": [
    "\n",
    "operations = ['plus', 'times', 'concat']"
   ],
   "id": "42c39ba6bfc19249"
  },
  {
   "metadata": {},
   "cell_type": "code",
   "outputs": [],
   "execution_count": null,
   "source": [
    "filename = '/content/sample_data/7_input'\n",
    "total = 0\n",
    "with open(filename) as file:\n",
    "  for line in file:\n",
    "    already_tested = False\n",
    "    first, second = [part.strip() for part in line.strip().split(':')]\n",
    "    result = int(first)\n",
    "    second = second.strip().split(' ')\n",
    "    operands = np.array([int(i) for i in second])\n",
    "    for candidate_sequence in itertools.product(operations, repeat=len(second) - 1):\n",
    "      if already_tested == True:\n",
    "        continue\n",
    "      else:\n",
    "        current_result = operands[0]\n",
    "        for i in range(len(second) - 1):\n",
    "          if candidate_sequence[i] == 'plus':\n",
    "            current_result = current_result + operands[i + 1]\n",
    "          elif candidate_sequence[i] == 'times':\n",
    "            current_result = current_result * operands[i + 1]\n",
    "          else:\n",
    "            current_result = int(str(current_result) + str(operands[i + 1]))\n",
    "          #print(current_result)\n",
    "          if current_result > result:\n",
    "            break\n",
    "        # print(i, len(second) - 2, current_result, result)\n",
    "        if (i == len(second) - 2) & (current_result == result):\n",
    "          already_tested = True\n",
    "          total += current_result"
   ],
   "id": "6f204fd238fdcdb6"
  },
  {
   "metadata": {},
   "cell_type": "code",
   "outputs": [],
   "execution_count": null,
   "source": "total",
   "id": "a932f04f9baae424"
  }
 ],
 "metadata": {
  "kernelspec": {
   "display_name": "Python 3",
   "language": "python",
   "name": "python3"
  },
  "language_info": {
   "codemirror_mode": {
    "name": "ipython",
    "version": 2
   },
   "file_extension": ".py",
   "mimetype": "text/x-python",
   "name": "python",
   "nbconvert_exporter": "python",
   "pygments_lexer": "ipython2",
   "version": "2.7.6"
  }
 },
 "nbformat": 4,
 "nbformat_minor": 5
}
