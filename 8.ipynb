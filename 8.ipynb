{
 "cells": [
  {
   "cell_type": "code",
   "execution_count": null,
   "id": "initial_id",
   "metadata": {
    "collapsed": true
   },
   "outputs": [],
   "source": [
    "import numpy as np\n",
    "from tqdm import tqdm"
   ]
  },
  {
   "metadata": {},
   "cell_type": "code",
   "outputs": [],
   "execution_count": null,
   "source": [
    "file = open(\"./data/7_input\", \"r\")\n",
    "lines = []\n",
    "chars = set()\n",
    "ords = set()\n",
    "\n",
    "for line in file:\n",
    "    line = line.rstrip()\n",
    "    current_chars = set(line)\n",
    "    chars = chars.union(current_chars)\n",
    "    line = [ord(letter) for letter in line]\n",
    "    current_ords = set(line)\n",
    "    ords = ords.union(current_ords)\n",
    "    lines += [line]\n",
    "\n",
    "file.close()\n",
    "lines = np.array(lines)"
   ],
   "id": "e0a9c0d268e74394"
  },
  {
   "metadata": {},
   "cell_type": "code",
   "outputs": [],
   "execution_count": null,
   "source": [
    "ordinal_to_char = {ordinal: chr(ordinal) for ordinal in ords}\n",
    "char_to_ordinal = {char: ordinal for ordinal, char in ordinal_to_char.items()}"
   ],
   "id": "392a936f0d2f7d1f"
  },
  {
   "metadata": {},
   "cell_type": "code",
   "outputs": [],
   "execution_count": null,
   "source": [
    "current_char = 'A'\n",
    "current_ordinal = char_to_ordinal[current_char]"
   ],
   "id": "d6ce5a5c640ccd42"
  },
  {
   "metadata": {},
   "cell_type": "code",
   "outputs": [],
   "execution_count": null,
   "source": [
    "def get_nodes_for_antenna_freq(map=lines, antenna_freq='A'):\n",
    "  antenna_freq = char_to_ordinal[antenna_freq]\n",
    "  current_antennas_locations = np.argwhere(map == antenna_freq)\n",
    "  nodes = set()\n",
    "  for antenna_location_1 in current_antennas_locations:\n",
    "      for antenna_location_2 in current_antennas_locations:\n",
    "          if np.array_equal(antenna_location_1, antenna_location_2):\n",
    "              continue\n",
    "          node = antenna_location_2 + (antenna_location_2 - antenna_location_1)\n",
    "          if node[0] < 0 or node[0] >= map.shape[0] or node[1] < 0 or node[1] >= map.shape[1]:\n",
    "              continue\n",
    "          nodes.add(tuple(node))\n",
    "  return set(nodes)"
   ],
   "id": "3e261d32d9134e18"
  },
  {
   "metadata": {},
   "cell_type": "code",
   "outputs": [],
   "execution_count": null,
   "source": [
    "all_nodes = set()\n",
    "for char in tqdm(chars):\n",
    "  if char == '.':\n",
    "    continue\n",
    "  nodes = get_nodes_for_antenna_freq(map=lines, antenna_freq=char)\n",
    "  all_nodes = all_nodes.union(nodes)"
   ],
   "id": "7e3564d0bba8f62d"
  },
  {
   "metadata": {},
   "cell_type": "code",
   "outputs": [],
   "execution_count": null,
   "source": "len(all_nodes)",
   "id": "d00d0d87f9b3f5c3"
  },
  {
   "metadata": {},
   "cell_type": "markdown",
   "source": "# Part 2",
   "id": "efc2fb161b52c471"
  },
  {
   "metadata": {},
   "cell_type": "code",
   "outputs": [],
   "execution_count": null,
   "source": [
    "def get_resonant_nodes_for_antenna_freq(map=lines, antenna_freq='A'):\n",
    "  antenna_freq = char_to_ordinal[antenna_freq]\n",
    "  current_antennas_locations = np.argwhere(map == antenna_freq)\n",
    "  nodes = set()\n",
    "  for antenna_location in current_antennas_locations:\n",
    "    nodes.add(tuple(antenna_location))\n",
    "  for antenna_location_1 in current_antennas_locations:\n",
    "      for antenna_location_2 in current_antennas_locations:\n",
    "          if np.array_equal(antenna_location_1, antenna_location_2):\n",
    "              continue\n",
    "          distance = antenna_location_2 - antenna_location_1\n",
    "          node = antenna_location_2 + distance\n",
    "          while ((node[0] >= 0) & (node[0] < map.shape[0]) & (node[1] >= 0) & (node[1] < map.shape[1])):\n",
    "            nodes.add(tuple(node))\n",
    "            node += distance\n",
    "  return set(nodes)"
   ],
   "id": "e2480fe85f74511d"
  },
  {
   "metadata": {},
   "cell_type": "code",
   "outputs": [],
   "execution_count": null,
   "source": [
    "all_nodes = set()\n",
    "for char in tqdm(chars):\n",
    "  print(char)\n",
    "  if char == '.' or char == '#':\n",
    "    continue\n",
    "  nodes = get_resonant_nodes_for_antenna_freq(map=lines, antenna_freq=char)\n",
    "  all_nodes = all_nodes.union(nodes)"
   ],
   "id": "258ca299198365bc"
  },
  {
   "metadata": {},
   "cell_type": "code",
   "outputs": [],
   "execution_count": null,
   "source": "len(all_nodes)",
   "id": "b1d4d0da31e081e3"
  }
 ],
 "metadata": {
  "kernelspec": {
   "display_name": "Python 3",
   "language": "python",
   "name": "python3"
  },
  "language_info": {
   "codemirror_mode": {
    "name": "ipython",
    "version": 2
   },
   "file_extension": ".py",
   "mimetype": "text/x-python",
   "name": "python",
   "nbconvert_exporter": "python",
   "pygments_lexer": "ipython2",
   "version": "2.7.6"
  }
 },
 "nbformat": 4,
 "nbformat_minor": 5
}
